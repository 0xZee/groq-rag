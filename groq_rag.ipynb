{
  "nbformat": 4,
  "nbformat_minor": 0,
  "metadata": {
    "colab": {
      "provenance": [],
      "authorship_tag": "ABX9TyNC0tPStFMrH3N0eeeoY7p6"
    },
    "kernelspec": {
      "name": "python3",
      "display_name": "Python 3"
    },
    "language_info": {
      "name": "python"
    }
  },
  "cells": [
    {
      "cell_type": "code",
      "execution_count": 125,
      "metadata": {
        "colab": {
          "base_uri": "https://localhost:8080/"
        },
        "collapsed": true,
        "id": "ZTTJKJgCSnaS",
        "outputId": "b71792b6-ce53-4744-c292-993c001ce424"
      },
      "outputs": [
        {
          "output_type": "stream",
          "name": "stdout",
          "text": [
            "\u001b[?25l     \u001b[90m━━━━━━━━━━━━━━━━━━━━━━━━━━━━━━━━━━━━━━━━\u001b[0m \u001b[32m0.0/290.4 kB\u001b[0m \u001b[31m?\u001b[0m eta \u001b[36m-:--:--\u001b[0m\r\u001b[2K     \u001b[91m━━━━━━━━━━━━━━━━━━━━━━━━━━━━━━━━━━━━━━━\u001b[0m\u001b[90m╺\u001b[0m \u001b[32m286.7/290.4 kB\u001b[0m \u001b[31m11.6 MB/s\u001b[0m eta \u001b[36m0:00:01\u001b[0m\r\u001b[2K     \u001b[90m━━━━━━━━━━━━━━━━━━━━━━━━━━━━━━━━━━━━━━━━\u001b[0m \u001b[32m290.4/290.4 kB\u001b[0m \u001b[31m7.8 MB/s\u001b[0m eta \u001b[36m0:00:00\u001b[0m\n",
            "\u001b[?25h"
          ]
        }
      ],
      "source": [
        "!pip install -qU pandas bs4\n",
        "!pip install -qU langchain langchain-community langchain-chroma\n",
        "!pip install -qU langchain-google-genai langchain-cohere\n",
        "!pip install -qU langchain-groq\n",
        "!pip install -qU pypdf"
      ]
    },
    {
      "cell_type": "code",
      "source": [
        "from langchain_cohere import CohereEmbeddings, ChatCohere\n",
        "from langchain_core.prompts import ChatPromptTemplate\n",
        "from langchain_groq import ChatGroq\n",
        "from google.colab import userdata\n",
        "\n",
        "import bs4\n",
        "from langchain_community.document_loaders import WebBaseLoader\n",
        "from langchain_community.document_loaders import PyPDFLoader\n",
        "from langchain_text_splitters import RecursiveCharacterTextSplitter\n",
        "from langchain_chroma import Chroma\n",
        "\n",
        "from langchain_core.output_parsers import StrOutputParser\n",
        "from langchain_core.runnables import RunnablePassthrough\n",
        "\n",
        "from langchain.chains import create_retrieval_chain\n",
        "from langchain.chains.combine_documents import create_stuff_documents_chain\n"
      ],
      "metadata": {
        "id": "0YtpG4-XMxOR"
      },
      "execution_count": null,
      "outputs": []
    },
    {
      "cell_type": "code",
      "source": [
        "# API\n",
        "COHERE_API = userdata.get('COHERE_API')\n",
        "GROQ_API_KEY = userdata.get('GROQ_API_KEY')\n",
        "\n",
        "\n",
        "def groq_llm():\n",
        "  llm = ChatGroq(model=\"llama3-8b-8192\", groq_api_key=GROQ_API_KEY)\n",
        "  return llm\n",
        "\n",
        "def co_llm():\n",
        "  llm = ChatCohere(cohere_api_key=COHERE_API)\n",
        "  return llm\n",
        "\n",
        "def cohere_embed():\n",
        "  embeddings = CohereEmbeddings(model = \"embed-multilingual-v3.0\", cohere_api_key=COHERE_API)\n",
        "  return embeddings\n",
        "\n",
        "\n",
        "embeddings = cohere_embed()\n",
        "#vector = embeddings.embed_query(\"hello\")\n",
        "#print(vector[:5])\n",
        "#print(len(vector))\n",
        "\n",
        "llm = groq_llm()\n",
        "res = llm.invoke(\"Write a ballad about Ethereum\")\n",
        "print(res.content)"
      ],
      "metadata": {
        "colab": {
          "base_uri": "https://localhost:8080/"
        },
        "collapsed": true,
        "id": "mi-uyhNhgTl4",
        "outputId": "5a4d5925-d117-4d05-d81a-2844fc72845f"
      },
      "execution_count": 109,
      "outputs": [
        {
          "output_type": "stream",
          "name": "stdout",
          "text": [
            "(Verse 1)\n",
            "In the dawn of blockchain's prime\n",
            "A vision took shape, a dream divine\n",
            "Ethereum rose, a beacon bright\n",
            "A platform born, to shine with all its might\n",
            "\n",
            "(Chorus)\n",
            "Oh, Ethereum, Ethereum, a world of code\n",
            "Where smart contracts thrive, and innovation abides\n",
            "With gas and transactions, it's a world to explore\n",
            "Ethereum, the land of decentralized lore\n",
            "\n",
            "(Verse 2)\n",
            "Gas prices rose, and fees took flight\n",
            "But Vitalik's vision, remained in sight\n",
            "The blockchain's heart, a beating strong\n",
            "As decentralized apps, began to throng\n",
            "\n",
            "(Chorus)\n",
            "Oh, Ethereum, Ethereum, a world of code\n",
            "Where smart contracts thrive, and innovation abides\n",
            "With gas and transactions, it's a world to explore\n",
            "Ethereum, the land of decentralized lore\n",
            "\n",
            "(Bridge)\n",
            "The DAO's fate, a lesson learned\n",
            "But Vitalik's vision, remained unfurled\n",
            "The community rallied, through trials and strife\n",
            "And Ethereum's spirit, remained alive\n",
            "\n",
            "(Verse 3)\n",
            "Solidity's language, a new syntax born\n",
            "As developers flocked, to Ethereum's form\n",
            "Decentralized finance, a new frontier explored\n",
            "As DeFi's innovation, left the world implored\n",
            "\n",
            "(Chorus)\n",
            "Oh, Ethereum, Ethereum, a world of code\n",
            "Where smart contracts thrive, and innovation abides\n",
            "With gas and transactions, it's a world to explore\n",
            "Ethereum, the land of decentralized lore\n",
            "\n",
            "(Outro)\n",
            "Now Ethereum's legacy, forever stands tall\n",
            "A testament to innovation's call\n",
            "A platform strong, a community bold\n",
            "Ethereum's story, forever to be told.\n"
          ]
        }
      ]
    },
    {
      "cell_type": "code",
      "source": [
        "# get pdf\n",
        "from langchain_community.document_loaders import PyPDFLoader\n",
        "\n",
        "file_path = (\"./WEF_Global_Risks_Report_2024.pdf\")\n",
        "loader = PyPDFLoader(file_path)\n",
        "pages = loader.load_and_split()\n",
        "\n",
        "len(pages)"
      ],
      "metadata": {
        "colab": {
          "base_uri": "https://localhost:8080/"
        },
        "id": "bY3ZzZJPCZ5v",
        "outputId": "37bd4f68-917f-4583-9942-a309152a5eca"
      },
      "execution_count": 128,
      "outputs": [
        {
          "output_type": "execute_result",
          "data": {
            "text/plain": [
              "143"
            ]
          },
          "metadata": {},
          "execution_count": 128
        }
      ]
    },
    {
      "cell_type": "code",
      "source": [
        "# get weburl text\n",
        "def get_weburl_text(url):\n",
        "  loader = WebBaseLoader(\n",
        "      web_paths=(url,),\n",
        "      bs_kwargs=dict(\n",
        "          parse_only=bs4.SoupStrainer(\n",
        "              class_=(\"post-content\", \"post-title\", \"post-header\")\n",
        "          )\n",
        "      ),\n",
        "  )\n",
        "  text = loader.load()\n",
        "  return text\n",
        "\n",
        "URL = \"https://lilianweng.github.io/posts/2023-06-23-agent/\"\n",
        "TEXT = get_weburl_text(URL)\n",
        "#TEXT"
      ],
      "metadata": {
        "collapsed": true,
        "id": "IbtDfOt8WH2W"
      },
      "execution_count": 111,
      "outputs": []
    },
    {
      "cell_type": "code",
      "source": [
        "text_splitter = RecursiveCharacterTextSplitter(chunk_size=1000, chunk_overlap=200)\n",
        "chunks = text_splitter.split_documents(pages)\n",
        "\n",
        "vectorstore = Chroma.from_documents(documents=chunks, embedding=cohere_embed())\n",
        "print(vectorstore)"
      ],
      "metadata": {
        "colab": {
          "base_uri": "https://localhost:8080/"
        },
        "id": "XrftoPI_oP8J",
        "outputId": "7867f0e8-54a8-4ffc-e593-c64f1f69d6d4"
      },
      "execution_count": 131,
      "outputs": [
        {
          "output_type": "stream",
          "name": "stdout",
          "text": [
            "<langchain_chroma.vectorstores.Chroma object at 0x7cf1b428bd30>\n"
          ]
        }
      ]
    },
    {
      "cell_type": "code",
      "source": [
        "query = \"What is the risks ?\"\n",
        "docs = vectorstore.similarity_search(query)\n",
        "print(docs[0].page_content)\n",
        "print(len(docs))"
      ],
      "metadata": {
        "colab": {
          "base_uri": "https://localhost:8080/"
        },
        "id": "lzVoxB4Vts_F",
        "outputId": "050aea89-be6a-4618-8f8a-46426f2fa754"
      },
      "execution_count": 132,
      "outputs": [
        {
          "output_type": "stream",
          "name": "stdout",
          "text": [
            "–Consequences\n",
            " seeks to understand the \n",
            "potential consequences of risks, to create a network map of the global risk landscape. Respondents were provided 10 randomly selected global risks (from the full list of 34 global risks) and were then asked to select up to five global risks (from the full list) likely to be triggered by each of the 10 randomly selected risks. Results are illustrated in Figure 1.7.  In visual results, “Nodes: Risk influence” is based on a simple tally of all bidirectional relationships identified by respondents. “Edges: Relative influence” is based on a simple tally of the number of times the risk was identified as a consequence. However, visual results do not show all connections: weaker relationships identified by less than 25% of respondents were not included as edges.\n",
            " –Risk gover\n",
            "nance asked respondents to identify\n",
            "4\n"
          ]
        }
      ]
    },
    {
      "cell_type": "code",
      "source": [
        "# Retrieve and generate using the relevant snippets of the blog.\n",
        "retriever = vectorstore.as_retriever(search_type=\"mmr\", search_kwargs={\"k\": 6})\n"
      ],
      "metadata": {
        "id": "8EfoTaMAudoV"
      },
      "execution_count": 141,
      "outputs": []
    },
    {
      "cell_type": "code",
      "source": [
        "def format_docs(docs):\n",
        "    return \"\\n\\n\".join(doc.page_content for doc in docs)"
      ],
      "metadata": {
        "id": "Y12EV7y3uv6U"
      },
      "execution_count": 134,
      "outputs": []
    },
    {
      "cell_type": "code",
      "source": [
        "SYS_PROMPT = \"\"\"\n",
        "You are a helpful, talkative and kind assistant for question-answering tasks, providing concise and low-level detailed answers from the context. Use the following pieces of retrieved context to answer the question. If you don't know the answer, just say that you don't know. Respond kindly.\n",
        "Question: {input}\n",
        "Context: {context}\n",
        "Answer:\n",
        "\"\"\"\n",
        "\n",
        "prompt = ChatPromptTemplate.from_messages(\n",
        "    [\n",
        "        (\"system\", SYS_PROMPT),\n",
        "        (\"human\", \"{input}\"),\n",
        "    ]\n",
        ")\n"
      ],
      "metadata": {
        "id": "ICBz7kyPcLzC"
      },
      "execution_count": 143,
      "outputs": []
    },
    {
      "cell_type": "code",
      "source": [
        "# BUILD CHAIN 1\n",
        "from langchain.chains import create_retrieval_chain\n",
        "from langchain.chains.combine_documents import create_stuff_documents_chain\n",
        "\n",
        "question_answer_chain = create_stuff_documents_chain(llm, prompt)\n",
        "rag_chain_0 = create_retrieval_chain(retriever, question_answer_chain)\n",
        "#\n",
        "response = rag_chain_0.invoke({\"input\": \"can ou give me 6 main data in this report then, how to deal with them ?, also respond in french\"})\n",
        "response_stream = rag_chain_0.stream({\"input\": \"What is Hallicination?\"})\n",
        "print(\"\\n---------------- ANSWER ----------------\\n\")\n",
        "print(response[\"answer\"])\n",
        "#for chunk in response_stream:\n",
        "#    print(chunk, end=\"\", flush=True)\n",
        "\n",
        "print(\"\\n\\n---------------- SOURCES ----------------\\n\")\n",
        "for document in response[\"context\"]:\n",
        "    print(document)\n",
        "    print()"
      ],
      "metadata": {
        "colab": {
          "base_uri": "https://localhost:8080/"
        },
        "id": "lJ4zVv99z7N2",
        "outputId": "a4b92ffc-c40a-48ec-9dd5-e0b40059fde0"
      },
      "execution_count": 149,
      "outputs": [
        {
          "output_type": "stream",
          "name": "stdout",
          "text": [
            "\n",
            "---------------- ANSWER ----------------\n",
            "\n",
            "Bonjour ! I'd be happy to help you with that.\n",
            "\n",
            "The main data from the report are:\n",
            "\n",
            "1. Risk ranking: This table ranks countries based on their risk levels, with Kyrgyzstan being the highest-ranked country and Lesotho being the lowest.\n",
            "2. Global adaptation score: This score measures a country's readiness to adapt to climate change, with a score ranging from 0 to 100.\n",
            "3. Top 10 adaptation readiness: This table shows the top 10 countries with the highest adaptation readiness scores.\n",
            "4. Share of respondents: This table shows the percentage of respondents who favor different approaches to addressing global risks, such as financial instruments, national regulations, and research and development.\n",
            "\n",
            "Now, to deal with these data, I'd suggest the following:\n",
            "\n",
            "1. Analyze the risk ranking: Identify countries with high risk levels and consider implementing strategies to mitigate these risks.\n",
            "2. Focus on improving adaptation readiness: Countries with low adaptation readiness scores can benefit from investing in infrastructure, education, and research to improve their resilience.\n",
            "3. Prioritize respondent approaches: Based on the survey results, prioritize the approaches that resonate most with respondents and allocate resources accordingly.\n",
            "4. Monitor and adjust: Continuously monitor the effectiveness of implemented strategies and adjust them as needed to address emerging risks and challenges.\n",
            "\n",
            "J'espère que cela vous aida à comprendre les données et à les gérer efficacement !\n",
            "\n",
            "\n",
            "---------------- SOURCES ----------------\n",
            "\n",
            "page_content='Terms of use and disclaimer\\nThis document is published by the World Economic \\nForum as a contribution to a project, insight area or interaction. The findings, interpretations and conclusions expressed herein are a result of a collaborative process facilitated and endorsed by the World Economic Forum but whose results do not necessarily represent the views of the World Economic Forum, nor the entirety of its Members, Partners or other stakeholders.\\nWorld Economic Forum\\n91-93 route de la Capite CH-1223 Cologny/Geneva Switzerland Tel.: +41 (0)22 869 1212 Fax: +41 (0)22 786 2744 E-mail: contact@weforum.org www.weforum.org\\nCopyright © 2024 \\nby the World Economic Forum\\nAll rights reserved. No part of this publication may be reproduced, stored in a retrieval system, or transmitted, in any form or by any means, electronic, mechanical, photocopying, or otherwise without the prior permission of the World Economic Forum.\\nISBN: 978-2-940631-64-3The report and an interactive data platform are' metadata={'page': 1, 'source': './WEF_Global_Risks_Report_2024.pdf'}\n",
            "\n",
            "page_content='This report has relied on the expertise of our colleagues who contributed to \\nour thematic consultations: Tatiana Aguilar, Khalid Alaamer, Thom Almeida, Silja Baller, Derek Baraldi, Shyam Bishen, Matthew Blake, Joanna Bouckaert, Shreya Bose, Charlotte Boutboul, Sebastian Buckup, Helen Burdett, Mario Canales, Andrew Caruana Galizia, Liming Chen, Aengus Collins, Roberto Crotti, Daniel Dobrygowski, Sean Doherty, Seán Doyle, Genesis Elhussein, Tarini Fernando, Tal Goldstein, Pedro Gomez, Jack Hurd, David Hyde, Akshay Joshi, Ariel Kastner, Nikolai Khylstov, Aoife Kirk, Andrej Kirn, Connie Kuang, Simon Lacey, Benjamin Larsen, Cathy Li, Eneida Licaj, Sriharsha Masabathula, Jeff Merritt, Helen Millman, Haleh Nazeri, Gim Huay Neo, Derek O’Halloran, Kirsty Paine, Nataša Perucica, Vanessa Racloz, Nicolai Ruge, Arunima Sakar, Supheakmungkol Sarin, Tania Strauss, Kyriakos Triantafyllidis, Renee Van Heusden, Lucia Velasco, Joe Wegener, Roddy Weller, and Eric White.' metadata={'page': 122, 'source': './WEF_Global_Risks_Report_2024.pdf'}\n",
            "\n",
            "page_content='1st 10th20th30th36th\\nRisk rankingKyrgyzstan Armenia Kazakhstan\\nMongolia South Korea Japan\\nNew ZealandBahamasSwedenItaly Germany\\nPeruEcuador\\nBrazilPoland Ukraine Bulgaria EstoniaSwitzerland Luxembourg\\nHondurasColombia\\nEl Salvador VenezuelaBolivia\\nCanada United StatesYemen\\nIndia\\nLesotho\\nUnited Republic of TanzaniaChad\\nSierra LeoneKenya ZimbabweNigeriaMali\\nMalawiPakistan Nepal\\nBangladeshThailandIndonesiaIraqEgyptAlgeriaParaguay\\nSenegalRwandaViet NamPhilippines\\nGhana\\nCameroonBenin\\nDemocratic Republic of the CongoAngolaLao PDRAustraliaGeorgia Uzbekistan\\nCentral Asia\\nEastern Asia\\nEurope\\nLatin America and\\nthe Caribbean\\nMiddle East and\\nNorthern Africa\\nNorthern America\\nOceania\\nSouth-eastern Asia\\nSouthern Asia\\nSub-Saharan AfricaLao PDR\\n0\\nLow High\\n50\\n25\\n75\\n100Global adaption scoreTop 10Adaptation readiness FIGURE 2.7\\nSource' metadata={'page': 44, 'source': './WEF_Global_Risks_Report_2024.pdf'}\n",
            "\n",
            "page_content='Resources:\\n1. Internet access for searches and information gathering.\\n2. Long Term memory management.\\n3. GPT-3.5 powered Agents for delegation of simple tasks.\\n4. File output.\\n\\nPerformance Evaluation:\\n1. Continuously review and analyze your actions to ensure you are performing to the best of your abilities.\\n2. Constructively self-criticize your big-picture behavior constantly.\\n3. Reflect on past decisions and strategies to refine your approach.\\n4. Every command has a cost, so be smart and efficient. Aim to complete tasks in the least number of steps.' metadata={'source': 'https://lilianweng.github.io/posts/2023-06-23-agent/'}\n",
            "\n",
            "page_content='23%\\n40%20%25%17%38%35%\\nShare of respondentsApproach\\na. Financial instruments\\nb. National and local regulationsc. Minilateral treaties and\\n    agreements\\nd. Global treaties and\\n    agreements\\ne. Development assistancef.  Corporate strategiesg. Research & developmenth. Public awareness and\\n    education\\ni.  Multi-stakeholder engagement\\nGlobal Risks Report 2024\\n75' metadata={'page': 74, 'source': './WEF_Global_Risks_Report_2024.pdf'}\n",
            "\n",
            "page_content='11. Delete file: \"delete_file\", args: \"file\": \"<file>\"\\n12. Search Files: \"search_files\", args: \"directory\": \"<directory>\"\\n13. Analyze Code: \"analyze_code\", args: \"code\": \"<full_code_string>\"\\n14. Get Improved Code: \"improve_code\", args: \"suggestions\": \"<list_of_suggestions>\", \"code\": \"<full_code_string>\"\\n15. Write Tests: \"write_tests\", args: \"code\": \"<full_code_string>\", \"focus\": \"<list_of_focus_areas>\"\\n16. Execute Python File: \"execute_python_file\", args: \"file\": \"<file>\"\\n17. Generate Image: \"generate_image\", args: \"prompt\": \"<prompt>\"\\n18. Send Tweet: \"send_tweet\", args: \"text\": \"<text>\"\\n19. Do Nothing: \"do_nothing\", args:\\n20. Task Complete (Shutdown): \"task_complete\", args: \"reason\": \"<reason>\"' metadata={'source': 'https://lilianweng.github.io/posts/2023-06-23-agent/'}\n",
            "\n"
          ]
        }
      ]
    },
    {
      "cell_type": "code",
      "source": [],
      "metadata": {
        "id": "IA1hDZbe4JrI"
      },
      "execution_count": null,
      "outputs": []
    },
    {
      "cell_type": "code",
      "source": [
        "# BUILD CHAIN 2\n",
        "rag_chain = (\n",
        "    {\"context\": retriever | format_docs, \"input\": RunnablePassthrough()}\n",
        "    | prompt\n",
        "    | llm\n",
        "    | StrOutputParser()\n",
        ")"
      ],
      "metadata": {
        "id": "-YrvbX6Buxhs"
      },
      "execution_count": 102,
      "outputs": []
    },
    {
      "cell_type": "code",
      "source": [
        "rag_chain.invoke(\"What is Hallucination ?\")"
      ],
      "metadata": {
        "colab": {
          "base_uri": "https://localhost:8080/",
          "height": 89
        },
        "id": "kmjE9Vh4u_st",
        "outputId": "e07b6a41-a349-446c-b283-234c312d192c"
      },
      "execution_count": 103,
      "outputs": [
        {
          "output_type": "execute_result",
          "data": {
            "text/plain": [
              "\"Sure, I can explain that! Hallucination, in the context of the provided text, refers to a sequence of consecutive identical actions that lead to the same observation in an environment. It's like getting stuck in a loop, doing the same thing over and over again, and not making any progress or encountering something new. This definition is specifically relevant to the Reflexion framework mentioned in the text, where a heuristic function helps identify and stop such hallucinations. \\n\\nIs there anything else you'd like me to explain or provide more details on?\""
            ],
            "application/vnd.google.colaboratory.intrinsic+json": {
              "type": "string"
            }
          },
          "metadata": {},
          "execution_count": 103
        }
      ]
    },
    {
      "cell_type": "code",
      "source": [
        "for chunk in rag_chain.stream(\"What is Task Decomposition?\"):\n",
        "    print(chunk, end=\"\", flush=True)"
      ],
      "metadata": {
        "colab": {
          "base_uri": "https://localhost:8080/"
        },
        "id": "CrMYjbaDvmtX",
        "outputId": "84aa39bb-c093-4b56-9aac-9b42d64c8a67"
      },
      "execution_count": 81,
      "outputs": [
        {
          "output_type": "stream",
          "name": "stdout",
          "text": [
            "Sure, task decomposition is a technique used to break down a complex task into smaller, more manageable steps. It's like untangling a big knot by pulling on smaller threads! \n",
            "\n",
            "In the context of LLMs and autonomous agents, task decomposition is a way to improve the performance of the model on complex tasks. By instructing the model to think step by step, it can better plan and execute complicated tasks. This also helps interpret how the model is thinking and provide insights into its decision-making process. \n",
            "\n",
            "Hope that helps! Is there anything else you'd like to know or discuss further?"
          ]
        }
      ]
    },
    {
      "cell_type": "code",
      "source": [],
      "metadata": {
        "id": "Rl_Y78KmzRr3"
      },
      "execution_count": 103,
      "outputs": []
    }
  ]
}